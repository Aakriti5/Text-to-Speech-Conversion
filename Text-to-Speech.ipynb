{
 "cells": [
  {
   "cell_type": "code",
   "execution_count": 1,
   "id": "32e61856",
   "metadata": {},
   "outputs": [
    {
     "name": "stdout",
     "output_type": "stream",
     "text": [
      "Requirement already satisfied: ibm_watson in c:\\users\\aakri\\anaconda3\\lib\\site-packages (5.2.2)\n",
      "Requirement already satisfied: ibm-cloud-sdk-core==3.*,>=3.3.6 in c:\\users\\aakri\\anaconda3\\lib\\site-packages (from ibm_watson) (3.10.1)\n",
      "Requirement already satisfied: python-dateutil>=2.5.3 in c:\\users\\aakri\\anaconda3\\lib\\site-packages (from ibm_watson) (2.8.1)\n",
      "Requirement already satisfied: requests<3.0,>=2.0 in c:\\users\\aakri\\anaconda3\\lib\\site-packages (from ibm_watson) (2.25.1)\n",
      "Requirement already satisfied: websocket-client==1.1.0 in c:\\users\\aakri\\anaconda3\\lib\\site-packages (from ibm_watson) (1.1.0)\n",
      "Requirement already satisfied: PyJWT<3.0.0,>=2.0.1 in c:\\users\\aakri\\anaconda3\\lib\\site-packages (from ibm-cloud-sdk-core==3.*,>=3.3.6->ibm_watson) (2.1.0)\n",
      "Requirement already satisfied: six>=1.5 in c:\\users\\aakri\\anaconda3\\lib\\site-packages (from python-dateutil>=2.5.3->ibm_watson) (1.15.0)\n",
      "Requirement already satisfied: certifi>=2017.4.17 in c:\\users\\aakri\\anaconda3\\lib\\site-packages (from requests<3.0,>=2.0->ibm_watson) (2020.12.5)\n",
      "Requirement already satisfied: chardet<5,>=3.0.2 in c:\\users\\aakri\\anaconda3\\lib\\site-packages (from requests<3.0,>=2.0->ibm_watson) (4.0.0)\n",
      "Requirement already satisfied: urllib3<1.27,>=1.21.1 in c:\\users\\aakri\\anaconda3\\lib\\site-packages (from requests<3.0,>=2.0->ibm_watson) (1.26.4)\n",
      "Requirement already satisfied: idna<3,>=2.5 in c:\\users\\aakri\\anaconda3\\lib\\site-packages (from requests<3.0,>=2.0->ibm_watson) (2.10)\n"
     ]
    }
   ],
   "source": [
    "!pip install ibm_watson"
   ]
  },
  {
   "cell_type": "code",
   "execution_count": 2,
   "id": "4d17a1d4",
   "metadata": {},
   "outputs": [],
   "source": [
    "from ibm_watson import TextToSpeechV1\n",
    "from ibm_cloud_sdk_core.authenticators import IAMAuthenticator"
   ]
  },
  {
   "cell_type": "code",
   "execution_count": 3,
   "id": "7dc58e49",
   "metadata": {},
   "outputs": [],
   "source": [
    "apikey = 'gL8_9yMDR5HPisW9TF64XljYYgjj1bQs175FBGtjbQdd'\n",
    "url = 'https://api.eu-gb.text-to-speech.watson.cloud.ibm.com/instances/1251f37e-0428-44b3-9071-acf6ff4c36ec'"
   ]
  },
  {
   "cell_type": "code",
   "execution_count": 4,
   "id": "29e40a9f",
   "metadata": {},
   "outputs": [],
   "source": [
    "authenticator = IAMAuthenticator(apikey)\n",
    "tts = TextToSpeechV1(authenticator=authenticator)\n",
    "tts.set_service_url(url)"
   ]
  },
  {
   "cell_type": "code",
   "execution_count": 5,
   "id": "bdca7c20",
   "metadata": {},
   "outputs": [],
   "source": [
    "with open('./speech.mp3', 'wb') as audio_file:\n",
    "    res = tts.synthesize('Hello World!', accept='audio/mp3', voice='en-US_AllisonV3Voice').get_result()\n",
    "    audio_file.write(res.content)"
   ]
  },
  {
   "cell_type": "code",
   "execution_count": 6,
   "id": "7e9a9be0",
   "metadata": {},
   "outputs": [],
   "source": [
    "with open('RakutenInfo.txt', 'r') as f:\n",
    "    text = f.readlines()"
   ]
  },
  {
   "cell_type": "code",
   "execution_count": 8,
   "id": "e0263792",
   "metadata": {},
   "outputs": [],
   "source": [
    "text = [line.replace('\\n', '') for line in text]\n",
    "text = ''.join(str(line) for line in text)"
   ]
  },
  {
   "cell_type": "code",
   "execution_count": 10,
   "id": "e4bc9121",
   "metadata": {},
   "outputs": [],
   "source": [
    "with open('./RakutenInfo.mp3', 'wb') as audio_file:\n",
    "    res = tts.synthesize(text, accept='audio/mp3', voice='en-US_AllisonV3Voice').get_result()\n",
    "    audio_file.write(res.content)"
   ]
  },
  {
   "cell_type": "code",
   "execution_count": 11,
   "id": "247fdd6a",
   "metadata": {},
   "outputs": [],
   "source": [
    "voice = 'ja-JP_EmiV3Voice'"
   ]
  },
  {
   "cell_type": "code",
   "execution_count": 12,
   "id": "f991c8d9",
   "metadata": {},
   "outputs": [],
   "source": [
    "japanese = \"\"\"こんにちは皆さん、元気ですか。\n",
    "            私はアクルティです。楽天で働いています。\n",
    "            今日は新しい技術を学んでいます。\n",
    "            以上です。\n",
    "            よろしくお願いいたします。\"\"\""
   ]
  },
  {
   "cell_type": "code",
   "execution_count": 13,
   "id": "0eb47b1c",
   "metadata": {},
   "outputs": [],
   "source": [
    "with open('./japaneseText.mp3', 'wb') as audio_file:\n",
    "    res = tts.synthesize(japanese, accept='audio/mp3', voice='ja-JP_EmiV3Voice').get_result()\n",
    "    audio_file.write(res.content)"
   ]
  },
  {
   "cell_type": "code",
   "execution_count": null,
   "id": "ffbf0cd2",
   "metadata": {},
   "outputs": [],
   "source": []
  }
 ],
 "metadata": {
  "kernelspec": {
   "display_name": "Python 3",
   "language": "python",
   "name": "python3"
  },
  "language_info": {
   "codemirror_mode": {
    "name": "ipython",
    "version": 3
   },
   "file_extension": ".py",
   "mimetype": "text/x-python",
   "name": "python",
   "nbconvert_exporter": "python",
   "pygments_lexer": "ipython3",
   "version": "3.8.8"
  }
 },
 "nbformat": 4,
 "nbformat_minor": 5
}
